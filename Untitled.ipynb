{
 "cells": [
  {
   "cell_type": "code",
   "execution_count": 15,
   "id": "867d7d1d-4794-40ad-ae1c-0ce82b1f4a56",
   "metadata": {},
   "outputs": [],
   "source": [
    "corpus=\"\"\" hello i am a girl and you  are a boy.so we \n",
    "           should not talk with each other? heelo maam.\n",
    "           Hello there! How are you doing today? I hope you're having a great day.\n",
    "           hello ram's;\n",
    "           \"\"\""
   ]
  },
  {
   "cell_type": "raw",
   "id": "ef3d11ce-7661-4d26-919b-24b7e1572e54",
   "metadata": {},
   "source": [
    "print(corpus)"
   ]
  },
  {
   "cell_type": "code",
   "execution_count": 16,
   "id": "dd079300-6d7e-426e-8753-8a9e276dfbfd",
   "metadata": {},
   "outputs": [
    {
     "name": "stderr",
     "output_type": "stream",
     "text": [
      "[nltk_data] Downloading package punkt to\n",
      "[nltk_data]     C:\\Users\\nehak\\AppData\\Roaming\\nltk_data...\n",
      "[nltk_data]   Package punkt is already up-to-date!\n"
     ]
    },
    {
     "data": {
      "text/plain": [
       "list"
      ]
     },
     "execution_count": 16,
     "metadata": {},
     "output_type": "execute_result"
    }
   ],
   "source": [
    "import nltk\n",
    "from nltk.tokenize import sent_tokenize\n",
    "nltk.download('punkt')\n",
    "document=sent_tokenize(corpus)\n",
    "type(document)"
   ]
  },
  {
   "cell_type": "code",
   "execution_count": 17,
   "id": "4d39f5a8-49d1-43c7-9e59-357df4eed276",
   "metadata": {},
   "outputs": [
    {
     "data": {
      "text/plain": [
       "['hello',\n",
       " 'i',\n",
       " 'am',\n",
       " 'a',\n",
       " 'girl',\n",
       " 'and',\n",
       " 'you',\n",
       " 'are',\n",
       " 'a',\n",
       " 'boy.so',\n",
       " 'we',\n",
       " 'should',\n",
       " 'not',\n",
       " 'talk',\n",
       " 'with',\n",
       " 'each',\n",
       " 'other',\n",
       " '?',\n",
       " 'heelo',\n",
       " 'maam',\n",
       " '.',\n",
       " 'Hello',\n",
       " 'there',\n",
       " '!',\n",
       " 'How',\n",
       " 'are',\n",
       " 'you',\n",
       " 'doing',\n",
       " 'today',\n",
       " '?',\n",
       " 'I',\n",
       " 'hope',\n",
       " 'you',\n",
       " \"'re\",\n",
       " 'having',\n",
       " 'a',\n",
       " 'great',\n",
       " 'day',\n",
       " '.',\n",
       " 'hello',\n",
       " 'ram',\n",
       " \"'s\",\n",
       " ';']"
      ]
     },
     "execution_count": 17,
     "metadata": {},
     "output_type": "execute_result"
    }
   ],
   "source": [
    "from nltk.tokenize import word_tokenize\n",
    "word_tokenize(corpus)"
   ]
  },
  {
   "cell_type": "code",
   "execution_count": 18,
   "id": "fb72327e-abf0-4d7b-aa03-ff96c2ecefa6",
   "metadata": {},
   "outputs": [
    {
     "name": "stdout",
     "output_type": "stream",
     "text": [
      "['hello', 'i', 'am', 'a', 'girl', 'and', 'you', 'are', 'a', 'boy.so', 'we', 'should', 'not', 'talk', 'with', 'each', 'other', '?']\n",
      "['heelo', 'maam', '.']\n",
      "['Hello', 'there', '!']\n",
      "['How', 'are', 'you', 'doing', 'today', '?']\n",
      "['I', 'hope', 'you', \"'re\", 'having', 'a', 'great', 'day', '.']\n",
      "['hello', 'ram', \"'s\", ';']\n"
     ]
    }
   ],
   "source": [
    "for sentence in document:\n",
    "    print(word_tokenize(sentence))"
   ]
  },
  {
   "cell_type": "code",
   "execution_count": 19,
   "id": "2e4f0aed-ed9f-42b2-b58a-d47684889474",
   "metadata": {},
   "outputs": [
    {
     "name": "stdout",
     "output_type": "stream",
     "text": [
      "['hello', 'i', 'am', 'a', 'girl', 'and', 'you', 'are', 'a', 'boy', '.', 'so', 'we', 'should', 'not', 'talk', 'with', 'each', 'other', '?']\n",
      "['heelo', 'maam', '.']\n",
      "['Hello', 'there', '!']\n",
      "['How', 'are', 'you', 'doing', 'today', '?']\n",
      "['I', 'hope', 'you', \"'\", 're', 'having', 'a', 'great', 'day', '.']\n",
      "['hello', 'ram', \"'\", 's', ';']\n"
     ]
    }
   ],
   "source": [
    "from nltk.tokenize import wordpunct_tokenize\n",
    "for i in document:\n",
    "    print(wordpunct_tokenize(i))"
   ]
  },
  {
   "cell_type": "code",
   "execution_count": null,
   "id": "ec3bc008-4976-4378-bd29-dc0442e139df",
   "metadata": {},
   "outputs": [],
   "source": []
  }
 ],
 "metadata": {
  "kernelspec": {
   "display_name": "Python 3 (ipykernel)",
   "language": "python",
   "name": "python3"
  },
  "language_info": {
   "codemirror_mode": {
    "name": "ipython",
    "version": 3
   },
   "file_extension": ".py",
   "mimetype": "text/x-python",
   "name": "python",
   "nbconvert_exporter": "python",
   "pygments_lexer": "ipython3",
   "version": "3.12.4"
  }
 },
 "nbformat": 4,
 "nbformat_minor": 5
}
